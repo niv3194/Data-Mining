{
 "cells": [
  {
   "cell_type": "code",
   "execution_count": 164,
   "metadata": {},
   "outputs": [],
   "source": [
    "import glob, re\n",
    "import numpy as np\n",
    "import pandas as pd\n",
    "from sklearn import *\n",
    "from datetime import datetime\n",
    "from xgboost import XGBRegressor"
   ]
  },
  {
   "cell_type": "code",
   "execution_count": null,
   "metadata": {},
   "outputs": [],
   "source": []
  },
  {
   "cell_type": "code",
   "execution_count": 165,
   "metadata": {},
   "outputs": [],
   "source": [
    "data = {\n",
    "    'air_visit': pd.read_csv('C:/Users/Nivedha/Documents/Datasets/air_visit_data.csv'),\n",
    "    'air_info': pd.read_csv('C:/Users/Nivedha/Documents/Datasets/air_store_info.csv'),\n",
    "    'hpg_info': pd.read_csv('C:/Users/Nivedha/Documents/Datasets/hpg_store_info.csv'),\n",
    "    'air_reserve': pd.read_csv('C:/Users/Nivedha/Documents/Datasets/air_reserve.csv'),\n",
    "    'hpg_reserve': pd.read_csv('C:/Users/Nivedha/Documents/Datasets/hpg_reserve.csv'),\n",
    "    'id': pd.read_csv('C:/Users/Nivedha/Documents/Datasets/store_id_relation.csv'),\n",
    "    'date_info': pd.read_csv('C:/Users/Nivedha/Documents/Datasets/date_info.csv').rename(columns={'calendar_date':'visit_date'}),\n",
    "    'sub': pd.read_csv('C:/Users/Nivedha/Documents/Datasets/sample_submission.csv')\n",
    "    }"
   ]
  },
  {
   "cell_type": "code",
   "execution_count": 166,
   "metadata": {},
   "outputs": [
    {
     "data": {
      "text/html": [
       "<div>\n",
       "<style scoped>\n",
       "    .dataframe tbody tr th:only-of-type {\n",
       "        vertical-align: middle;\n",
       "    }\n",
       "\n",
       "    .dataframe tbody tr th {\n",
       "        vertical-align: top;\n",
       "    }\n",
       "\n",
       "    .dataframe thead th {\n",
       "        text-align: right;\n",
       "    }\n",
       "</style>\n",
       "<table border=\"1\" class=\"dataframe\">\n",
       "  <thead>\n",
       "    <tr style=\"text-align: right;\">\n",
       "      <th></th>\n",
       "      <th>hpg_store_id</th>\n",
       "      <th>visit_datetime</th>\n",
       "      <th>reserve_datetime</th>\n",
       "      <th>reserve_visitors</th>\n",
       "    </tr>\n",
       "  </thead>\n",
       "  <tbody>\n",
       "    <tr>\n",
       "      <th>0</th>\n",
       "      <td>hpg_c63f6f42e088e50f</td>\n",
       "      <td>2016-01-01 11:00:00</td>\n",
       "      <td>2016-01-01 09:00:00</td>\n",
       "      <td>1</td>\n",
       "    </tr>\n",
       "    <tr>\n",
       "      <th>1</th>\n",
       "      <td>hpg_dac72789163a3f47</td>\n",
       "      <td>2016-01-01 13:00:00</td>\n",
       "      <td>2016-01-01 06:00:00</td>\n",
       "      <td>3</td>\n",
       "    </tr>\n",
       "    <tr>\n",
       "      <th>2</th>\n",
       "      <td>hpg_c8e24dcf51ca1eb5</td>\n",
       "      <td>2016-01-01 16:00:00</td>\n",
       "      <td>2016-01-01 14:00:00</td>\n",
       "      <td>2</td>\n",
       "    </tr>\n",
       "    <tr>\n",
       "      <th>3</th>\n",
       "      <td>hpg_24bb207e5fd49d4a</td>\n",
       "      <td>2016-01-01 17:00:00</td>\n",
       "      <td>2016-01-01 11:00:00</td>\n",
       "      <td>5</td>\n",
       "    </tr>\n",
       "    <tr>\n",
       "      <th>4</th>\n",
       "      <td>hpg_25291c542ebb3bc2</td>\n",
       "      <td>2016-01-01 17:00:00</td>\n",
       "      <td>2016-01-01 03:00:00</td>\n",
       "      <td>13</td>\n",
       "    </tr>\n",
       "    <tr>\n",
       "      <th>5</th>\n",
       "      <td>hpg_28bdf7a336ec6a7b</td>\n",
       "      <td>2016-01-01 17:00:00</td>\n",
       "      <td>2016-01-01 15:00:00</td>\n",
       "      <td>2</td>\n",
       "    </tr>\n",
       "    <tr>\n",
       "      <th>6</th>\n",
       "      <td>hpg_2a01a042bca04ad9</td>\n",
       "      <td>2016-01-01 17:00:00</td>\n",
       "      <td>2016-01-01 17:00:00</td>\n",
       "      <td>2</td>\n",
       "    </tr>\n",
       "    <tr>\n",
       "      <th>7</th>\n",
       "      <td>hpg_2a84dd9f4c140b82</td>\n",
       "      <td>2016-01-01 17:00:00</td>\n",
       "      <td>2016-01-01 15:00:00</td>\n",
       "      <td>2</td>\n",
       "    </tr>\n",
       "    <tr>\n",
       "      <th>8</th>\n",
       "      <td>hpg_2ad179871696901f</td>\n",
       "      <td>2016-01-01 17:00:00</td>\n",
       "      <td>2016-01-01 13:00:00</td>\n",
       "      <td>2</td>\n",
       "    </tr>\n",
       "    <tr>\n",
       "      <th>9</th>\n",
       "      <td>hpg_2c1d989eedb0ff83</td>\n",
       "      <td>2016-01-01 17:00:00</td>\n",
       "      <td>2016-01-01 15:00:00</td>\n",
       "      <td>6</td>\n",
       "    </tr>\n",
       "  </tbody>\n",
       "</table>\n",
       "</div>"
      ],
      "text/plain": [
       "           hpg_store_id       visit_datetime     reserve_datetime  \\\n",
       "0  hpg_c63f6f42e088e50f  2016-01-01 11:00:00  2016-01-01 09:00:00   \n",
       "1  hpg_dac72789163a3f47  2016-01-01 13:00:00  2016-01-01 06:00:00   \n",
       "2  hpg_c8e24dcf51ca1eb5  2016-01-01 16:00:00  2016-01-01 14:00:00   \n",
       "3  hpg_24bb207e5fd49d4a  2016-01-01 17:00:00  2016-01-01 11:00:00   \n",
       "4  hpg_25291c542ebb3bc2  2016-01-01 17:00:00  2016-01-01 03:00:00   \n",
       "5  hpg_28bdf7a336ec6a7b  2016-01-01 17:00:00  2016-01-01 15:00:00   \n",
       "6  hpg_2a01a042bca04ad9  2016-01-01 17:00:00  2016-01-01 17:00:00   \n",
       "7  hpg_2a84dd9f4c140b82  2016-01-01 17:00:00  2016-01-01 15:00:00   \n",
       "8  hpg_2ad179871696901f  2016-01-01 17:00:00  2016-01-01 13:00:00   \n",
       "9  hpg_2c1d989eedb0ff83  2016-01-01 17:00:00  2016-01-01 15:00:00   \n",
       "\n",
       "   reserve_visitors  \n",
       "0                 1  \n",
       "1                 3  \n",
       "2                 2  \n",
       "3                 5  \n",
       "4                13  \n",
       "5                 2  \n",
       "6                 2  \n",
       "7                 2  \n",
       "8                 2  \n",
       "9                 6  "
      ]
     },
     "execution_count": 166,
     "metadata": {},
     "output_type": "execute_result"
    }
   ],
   "source": [
    "data['hpg_reserve'].head(10)"
   ]
  },
  {
   "cell_type": "code",
   "execution_count": 167,
   "metadata": {},
   "outputs": [],
   "source": [
    "data['hpg_reserve'] = pd.merge(data['hpg_reserve'], data['id'], how='inner', on=['hpg_store_id'])\n",
    "\n",
    "for df in ['air_reserve','hpg_reserve']:\n",
    "    data[df]['visit_datetime'] = pd.to_datetime(data[df]['visit_datetime'])\n",
    "    data[df]['visit_datetime'] = data[df]['visit_datetime'].dt.date\n",
    "    data[df]['reserve_datetime'] = pd.to_datetime(data[df]['reserve_datetime'])\n",
    "    data[df]['reserve_datetime'] = data[df]['reserve_datetime'].dt.date\n",
    "    data[df]['reserve_datetime_diff'] = data[df].apply(lambda r: (r['visit_datetime'] - r['reserve_datetime']).days, axis=1)\n",
    "    merge1 = data[df].groupby(['air_store_id','visit_datetime'], as_index=False)[['reserve_datetime_diff', 'reserve_visitors']].sum().rename(columns={'visit_datetime':'visit_date', 'reserve_datetime_diff': 'rs1', 'reserve_visitors':'rv1'})\n",
    "    merge2 = data[df].groupby(['air_store_id','visit_datetime'], as_index=False)[['reserve_datetime_diff', 'reserve_visitors']].mean().rename(columns={'visit_datetime':'visit_date', 'reserve_datetime_diff': 'rs2', 'reserve_visitors':'rv2'})\n",
    "    data[df] = pd.merge(merge1, merge2, how='inner', on=['air_store_id','visit_date'])"
   ]
  },
  {
   "cell_type": "code",
   "execution_count": 168,
   "metadata": {},
   "outputs": [
    {
     "data": {
      "text/html": [
       "<div>\n",
       "<style scoped>\n",
       "    .dataframe tbody tr th:only-of-type {\n",
       "        vertical-align: middle;\n",
       "    }\n",
       "\n",
       "    .dataframe tbody tr th {\n",
       "        vertical-align: top;\n",
       "    }\n",
       "\n",
       "    .dataframe thead th {\n",
       "        text-align: right;\n",
       "    }\n",
       "</style>\n",
       "<table border=\"1\" class=\"dataframe\">\n",
       "  <thead>\n",
       "    <tr style=\"text-align: right;\">\n",
       "      <th></th>\n",
       "      <th>air_store_id</th>\n",
       "      <th>visit_date</th>\n",
       "      <th>rs1</th>\n",
       "      <th>rv1</th>\n",
       "      <th>rs2</th>\n",
       "      <th>rv2</th>\n",
       "    </tr>\n",
       "  </thead>\n",
       "  <tbody>\n",
       "    <tr>\n",
       "      <th>0</th>\n",
       "      <td>air_00a91d42b08b08d9</td>\n",
       "      <td>2016-01-14</td>\n",
       "      <td>3</td>\n",
       "      <td>2</td>\n",
       "      <td>3.0</td>\n",
       "      <td>2.0</td>\n",
       "    </tr>\n",
       "    <tr>\n",
       "      <th>1</th>\n",
       "      <td>air_00a91d42b08b08d9</td>\n",
       "      <td>2016-01-15</td>\n",
       "      <td>6</td>\n",
       "      <td>4</td>\n",
       "      <td>6.0</td>\n",
       "      <td>4.0</td>\n",
       "    </tr>\n",
       "    <tr>\n",
       "      <th>2</th>\n",
       "      <td>air_00a91d42b08b08d9</td>\n",
       "      <td>2016-01-16</td>\n",
       "      <td>3</td>\n",
       "      <td>2</td>\n",
       "      <td>3.0</td>\n",
       "      <td>2.0</td>\n",
       "    </tr>\n",
       "    <tr>\n",
       "      <th>3</th>\n",
       "      <td>air_00a91d42b08b08d9</td>\n",
       "      <td>2016-01-22</td>\n",
       "      <td>3</td>\n",
       "      <td>2</td>\n",
       "      <td>3.0</td>\n",
       "      <td>2.0</td>\n",
       "    </tr>\n",
       "    <tr>\n",
       "      <th>4</th>\n",
       "      <td>air_00a91d42b08b08d9</td>\n",
       "      <td>2016-01-29</td>\n",
       "      <td>6</td>\n",
       "      <td>5</td>\n",
       "      <td>6.0</td>\n",
       "      <td>5.0</td>\n",
       "    </tr>\n",
       "    <tr>\n",
       "      <th>5</th>\n",
       "      <td>air_00a91d42b08b08d9</td>\n",
       "      <td>2016-02-05</td>\n",
       "      <td>16</td>\n",
       "      <td>2</td>\n",
       "      <td>16.0</td>\n",
       "      <td>2.0</td>\n",
       "    </tr>\n",
       "    <tr>\n",
       "      <th>6</th>\n",
       "      <td>air_00a91d42b08b08d9</td>\n",
       "      <td>2016-03-08</td>\n",
       "      <td>2</td>\n",
       "      <td>3</td>\n",
       "      <td>2.0</td>\n",
       "      <td>3.0</td>\n",
       "    </tr>\n",
       "    <tr>\n",
       "      <th>7</th>\n",
       "      <td>air_00a91d42b08b08d9</td>\n",
       "      <td>2016-04-04</td>\n",
       "      <td>4</td>\n",
       "      <td>1</td>\n",
       "      <td>4.0</td>\n",
       "      <td>1.0</td>\n",
       "    </tr>\n",
       "    <tr>\n",
       "      <th>8</th>\n",
       "      <td>air_00a91d42b08b08d9</td>\n",
       "      <td>2016-04-07</td>\n",
       "      <td>1</td>\n",
       "      <td>2</td>\n",
       "      <td>1.0</td>\n",
       "      <td>2.0</td>\n",
       "    </tr>\n",
       "    <tr>\n",
       "      <th>9</th>\n",
       "      <td>air_00a91d42b08b08d9</td>\n",
       "      <td>2016-04-08</td>\n",
       "      <td>13</td>\n",
       "      <td>7</td>\n",
       "      <td>6.5</td>\n",
       "      <td>3.5</td>\n",
       "    </tr>\n",
       "  </tbody>\n",
       "</table>\n",
       "</div>"
      ],
      "text/plain": [
       "           air_store_id  visit_date  rs1  rv1   rs2  rv2\n",
       "0  air_00a91d42b08b08d9  2016-01-14    3    2   3.0  2.0\n",
       "1  air_00a91d42b08b08d9  2016-01-15    6    4   6.0  4.0\n",
       "2  air_00a91d42b08b08d9  2016-01-16    3    2   3.0  2.0\n",
       "3  air_00a91d42b08b08d9  2016-01-22    3    2   3.0  2.0\n",
       "4  air_00a91d42b08b08d9  2016-01-29    6    5   6.0  5.0\n",
       "5  air_00a91d42b08b08d9  2016-02-05   16    2  16.0  2.0\n",
       "6  air_00a91d42b08b08d9  2016-03-08    2    3   2.0  3.0\n",
       "7  air_00a91d42b08b08d9  2016-04-04    4    1   4.0  1.0\n",
       "8  air_00a91d42b08b08d9  2016-04-07    1    2   1.0  2.0\n",
       "9  air_00a91d42b08b08d9  2016-04-08   13    7   6.5  3.5"
      ]
     },
     "execution_count": 168,
     "metadata": {},
     "output_type": "execute_result"
    }
   ],
   "source": [
    "data['hpg_reserve'].head(10)"
   ]
  },
  {
   "cell_type": "code",
   "execution_count": 169,
   "metadata": {},
   "outputs": [
    {
     "data": {
      "text/html": [
       "<div>\n",
       "<style scoped>\n",
       "    .dataframe tbody tr th:only-of-type {\n",
       "        vertical-align: middle;\n",
       "    }\n",
       "\n",
       "    .dataframe tbody tr th {\n",
       "        vertical-align: top;\n",
       "    }\n",
       "\n",
       "    .dataframe thead th {\n",
       "        text-align: right;\n",
       "    }\n",
       "</style>\n",
       "<table border=\"1\" class=\"dataframe\">\n",
       "  <thead>\n",
       "    <tr style=\"text-align: right;\">\n",
       "      <th></th>\n",
       "      <th>air_store_id</th>\n",
       "      <th>visit_date</th>\n",
       "      <th>rs1</th>\n",
       "      <th>rv1</th>\n",
       "      <th>rs2</th>\n",
       "      <th>rv2</th>\n",
       "    </tr>\n",
       "  </thead>\n",
       "  <tbody>\n",
       "    <tr>\n",
       "      <th>0</th>\n",
       "      <td>air_00a91d42b08b08d9</td>\n",
       "      <td>2016-01-14</td>\n",
       "      <td>3</td>\n",
       "      <td>2</td>\n",
       "      <td>3.0</td>\n",
       "      <td>2.0</td>\n",
       "    </tr>\n",
       "    <tr>\n",
       "      <th>1</th>\n",
       "      <td>air_00a91d42b08b08d9</td>\n",
       "      <td>2016-01-15</td>\n",
       "      <td>6</td>\n",
       "      <td>4</td>\n",
       "      <td>6.0</td>\n",
       "      <td>4.0</td>\n",
       "    </tr>\n",
       "    <tr>\n",
       "      <th>2</th>\n",
       "      <td>air_00a91d42b08b08d9</td>\n",
       "      <td>2016-01-16</td>\n",
       "      <td>3</td>\n",
       "      <td>2</td>\n",
       "      <td>3.0</td>\n",
       "      <td>2.0</td>\n",
       "    </tr>\n",
       "    <tr>\n",
       "      <th>3</th>\n",
       "      <td>air_00a91d42b08b08d9</td>\n",
       "      <td>2016-01-22</td>\n",
       "      <td>3</td>\n",
       "      <td>2</td>\n",
       "      <td>3.0</td>\n",
       "      <td>2.0</td>\n",
       "    </tr>\n",
       "    <tr>\n",
       "      <th>4</th>\n",
       "      <td>air_00a91d42b08b08d9</td>\n",
       "      <td>2016-01-29</td>\n",
       "      <td>6</td>\n",
       "      <td>5</td>\n",
       "      <td>6.0</td>\n",
       "      <td>5.0</td>\n",
       "    </tr>\n",
       "    <tr>\n",
       "      <th>5</th>\n",
       "      <td>air_00a91d42b08b08d9</td>\n",
       "      <td>2016-02-05</td>\n",
       "      <td>16</td>\n",
       "      <td>2</td>\n",
       "      <td>16.0</td>\n",
       "      <td>2.0</td>\n",
       "    </tr>\n",
       "    <tr>\n",
       "      <th>6</th>\n",
       "      <td>air_00a91d42b08b08d9</td>\n",
       "      <td>2016-03-08</td>\n",
       "      <td>2</td>\n",
       "      <td>3</td>\n",
       "      <td>2.0</td>\n",
       "      <td>3.0</td>\n",
       "    </tr>\n",
       "    <tr>\n",
       "      <th>7</th>\n",
       "      <td>air_00a91d42b08b08d9</td>\n",
       "      <td>2016-04-04</td>\n",
       "      <td>4</td>\n",
       "      <td>1</td>\n",
       "      <td>4.0</td>\n",
       "      <td>1.0</td>\n",
       "    </tr>\n",
       "    <tr>\n",
       "      <th>8</th>\n",
       "      <td>air_00a91d42b08b08d9</td>\n",
       "      <td>2016-04-07</td>\n",
       "      <td>1</td>\n",
       "      <td>2</td>\n",
       "      <td>1.0</td>\n",
       "      <td>2.0</td>\n",
       "    </tr>\n",
       "    <tr>\n",
       "      <th>9</th>\n",
       "      <td>air_00a91d42b08b08d9</td>\n",
       "      <td>2016-04-08</td>\n",
       "      <td>13</td>\n",
       "      <td>7</td>\n",
       "      <td>6.5</td>\n",
       "      <td>3.5</td>\n",
       "    </tr>\n",
       "  </tbody>\n",
       "</table>\n",
       "</div>"
      ],
      "text/plain": [
       "           air_store_id  visit_date  rs1  rv1   rs2  rv2\n",
       "0  air_00a91d42b08b08d9  2016-01-14    3    2   3.0  2.0\n",
       "1  air_00a91d42b08b08d9  2016-01-15    6    4   6.0  4.0\n",
       "2  air_00a91d42b08b08d9  2016-01-16    3    2   3.0  2.0\n",
       "3  air_00a91d42b08b08d9  2016-01-22    3    2   3.0  2.0\n",
       "4  air_00a91d42b08b08d9  2016-01-29    6    5   6.0  5.0\n",
       "5  air_00a91d42b08b08d9  2016-02-05   16    2  16.0  2.0\n",
       "6  air_00a91d42b08b08d9  2016-03-08    2    3   2.0  3.0\n",
       "7  air_00a91d42b08b08d9  2016-04-04    4    1   4.0  1.0\n",
       "8  air_00a91d42b08b08d9  2016-04-07    1    2   1.0  2.0\n",
       "9  air_00a91d42b08b08d9  2016-04-08   13    7   6.5  3.5"
      ]
     },
     "execution_count": 169,
     "metadata": {},
     "output_type": "execute_result"
    }
   ],
   "source": [
    "data[df].head(10)"
   ]
  },
  {
   "cell_type": "code",
   "execution_count": 170,
   "metadata": {},
   "outputs": [
    {
     "data": {
      "text/html": [
       "<div>\n",
       "<style scoped>\n",
       "    .dataframe tbody tr th:only-of-type {\n",
       "        vertical-align: middle;\n",
       "    }\n",
       "\n",
       "    .dataframe tbody tr th {\n",
       "        vertical-align: top;\n",
       "    }\n",
       "\n",
       "    .dataframe thead th {\n",
       "        text-align: right;\n",
       "    }\n",
       "</style>\n",
       "<table border=\"1\" class=\"dataframe\">\n",
       "  <thead>\n",
       "    <tr style=\"text-align: right;\">\n",
       "      <th></th>\n",
       "      <th>air_store_id</th>\n",
       "      <th>hpg_store_id</th>\n",
       "    </tr>\n",
       "  </thead>\n",
       "  <tbody>\n",
       "    <tr>\n",
       "      <th>0</th>\n",
       "      <td>air_63b13c56b7201bd9</td>\n",
       "      <td>hpg_4bc649e72e2a239a</td>\n",
       "    </tr>\n",
       "    <tr>\n",
       "      <th>1</th>\n",
       "      <td>air_a24bf50c3e90d583</td>\n",
       "      <td>hpg_c34b496d0305a809</td>\n",
       "    </tr>\n",
       "    <tr>\n",
       "      <th>2</th>\n",
       "      <td>air_c7f78b4f3cba33ff</td>\n",
       "      <td>hpg_cd8ae0d9bbd58ff9</td>\n",
       "    </tr>\n",
       "    <tr>\n",
       "      <th>3</th>\n",
       "      <td>air_947eb2cae4f3e8f2</td>\n",
       "      <td>hpg_de24ea49dc25d6b8</td>\n",
       "    </tr>\n",
       "    <tr>\n",
       "      <th>4</th>\n",
       "      <td>air_965b2e0cf4119003</td>\n",
       "      <td>hpg_653238a84804d8e7</td>\n",
       "    </tr>\n",
       "    <tr>\n",
       "      <th>5</th>\n",
       "      <td>air_a38f25e3399d1b25</td>\n",
       "      <td>hpg_50378da9ffb9b6cd</td>\n",
       "    </tr>\n",
       "    <tr>\n",
       "      <th>6</th>\n",
       "      <td>air_3c938075889fc059</td>\n",
       "      <td>hpg_349b1b92f98b175e</td>\n",
       "    </tr>\n",
       "    <tr>\n",
       "      <th>7</th>\n",
       "      <td>air_68301bcb11e2f389</td>\n",
       "      <td>hpg_2c09f3abb2220659</td>\n",
       "    </tr>\n",
       "    <tr>\n",
       "      <th>8</th>\n",
       "      <td>air_5f6fa1b897fe80d5</td>\n",
       "      <td>hpg_40aff6385800ebb1</td>\n",
       "    </tr>\n",
       "    <tr>\n",
       "      <th>9</th>\n",
       "      <td>air_00a91d42b08b08d9</td>\n",
       "      <td>hpg_fbe603376b5980fc</td>\n",
       "    </tr>\n",
       "  </tbody>\n",
       "</table>\n",
       "</div>"
      ],
      "text/plain": [
       "           air_store_id          hpg_store_id\n",
       "0  air_63b13c56b7201bd9  hpg_4bc649e72e2a239a\n",
       "1  air_a24bf50c3e90d583  hpg_c34b496d0305a809\n",
       "2  air_c7f78b4f3cba33ff  hpg_cd8ae0d9bbd58ff9\n",
       "3  air_947eb2cae4f3e8f2  hpg_de24ea49dc25d6b8\n",
       "4  air_965b2e0cf4119003  hpg_653238a84804d8e7\n",
       "5  air_a38f25e3399d1b25  hpg_50378da9ffb9b6cd\n",
       "6  air_3c938075889fc059  hpg_349b1b92f98b175e\n",
       "7  air_68301bcb11e2f389  hpg_2c09f3abb2220659\n",
       "8  air_5f6fa1b897fe80d5  hpg_40aff6385800ebb1\n",
       "9  air_00a91d42b08b08d9  hpg_fbe603376b5980fc"
      ]
     },
     "execution_count": 170,
     "metadata": {},
     "output_type": "execute_result"
    }
   ],
   "source": [
    "data['id'].head(10)"
   ]
  },
  {
   "cell_type": "code",
   "execution_count": 171,
   "metadata": {},
   "outputs": [],
   "source": [
    "data['air_visit']['visit_date'] = pd.to_datetime(data['air_visit']['visit_date'])\n",
    "data['air_visit']['dow'] = data['air_visit']['visit_date'].dt.dayofweek\n",
    "data['air_visit']['year'] = data['air_visit']['visit_date'].dt.year\n",
    "data['air_visit']['month'] = data['air_visit']['visit_date'].dt.month\n",
    "data['air_visit']['visit_date'] = data['air_visit']['visit_date'].dt.date"
   ]
  },
  {
   "cell_type": "code",
   "execution_count": 172,
   "metadata": {},
   "outputs": [],
   "source": [
    "data['sub']['visit_date'] = data['sub']['id'].map(lambda x: str(x).split('_')[2])\n",
    "data['sub']['air_store_id'] = data['sub']['id'].map(lambda x: '_'.join(x.split('_')[:2]))\n",
    "data['sub']['visit_date'] = pd.to_datetime(data['sub']['visit_date'])\n",
    "data['sub']['dow'] = data['sub']['visit_date'].dt.dayofweek\n",
    "data['sub']['year'] = data['sub']['visit_date'].dt.year\n",
    "data['sub']['month'] = data['sub']['visit_date'].dt.month\n",
    "data['sub']['visit_date'] = data['sub']['visit_date'].dt.date"
   ]
  },
  {
   "cell_type": "code",
   "execution_count": 173,
   "metadata": {},
   "outputs": [],
   "source": [
    "unique_restaurant = data['sub']['air_store_id'].unique()\n",
    "restaurants = pd.concat([pd.DataFrame({'air_store_id': unique_restaurant, 'dow': [i]*len(unique_restaurant)}) for i in range(7)], axis=0, ignore_index=True).reset_index(drop=True)"
   ]
  },
  {
   "cell_type": "code",
   "execution_count": 174,
   "metadata": {},
   "outputs": [],
   "source": [
    "temp = data['air_visit'].groupby(['air_store_id','dow'], as_index=False)['visitors'].min().rename(columns={'visitors':'min_visitors'})\n",
    "restaurants = pd.merge(restaurants, temp, how='left', on=['air_store_id','dow']) \n",
    "temp = data['air_visit'].groupby(['air_store_id','dow'], as_index=False)['visitors'].mean().rename(columns={'visitors':'mean_visitors'})\n",
    "restaurants = pd.merge(restaurants, temp, how='left', on=['air_store_id','dow'])\n",
    "temp = data['air_visit'].groupby(['air_store_id','dow'], as_index=False)['visitors'].median().rename(columns={'visitors':'median_visitors'})\n",
    "restaurants = pd.merge(restaurants, temp, how='left', on=['air_store_id','dow'])\n",
    "temp = data['air_visit'].groupby(['air_store_id','dow'], as_index=False)['visitors'].max().rename(columns={'visitors':'max_visitors'})\n",
    "restaurants = pd.merge(restaurants, temp, how='left', on=['air_store_id','dow'])\n",
    "temp = data['air_visit'].groupby(['air_store_id','dow'], as_index=False)['visitors'].count().rename(columns={'visitors':'count_observations'})\n",
    "restaurants = pd.merge(restaurants, temp, how='left', on=['air_store_id','dow'])"
   ]
  },
  {
   "cell_type": "code",
   "execution_count": 175,
   "metadata": {},
   "outputs": [],
   "source": [
    "restaurants = pd.merge(restaurants, data['air_info'], how='left', on=['air_store_id']) \n",
    "# NEW FEATURES FROM Georgii Vyshnia\n",
    "restaurants['air_genre_name'] = restaurants['air_genre_name'].map(lambda x: str(str(x).replace('/',' ')))\n",
    "restaurants['air_area_name'] = restaurants['air_area_name'].map(lambda x: str(str(x).replace('-',' ')))\n",
    "lbl = preprocessing.LabelEncoder()\n",
    "for i in range(10):\n",
    "    restaurants['air_genre_name'+str(i)] = lbl.fit_transform(restaurants['air_genre_name'].map(lambda x: str(str(x).split(' ')[i]) if len(str(x).split(' '))>i else ''))\n",
    "    restaurants['air_area_name'+str(i)] = lbl.fit_transform(restaurants['air_area_name'].map(lambda x: str(str(x).split(' ')[i]) if len(str(x).split(' '))>i else ''))\n",
    "restaurants['air_genre_name'] = lbl.fit_transform(restaurants['air_genre_name'])\n",
    "restaurants['air_area_name'] = lbl.fit_transform(restaurants['air_area_name'])"
   ]
  },
  {
   "cell_type": "code",
   "execution_count": 176,
   "metadata": {},
   "outputs": [],
   "source": [
    "data['date_info']['visit_date'] = pd.to_datetime(data['date_info']['visit_date'])\n",
    "data['date_info']['day_of_week'] = lbl.fit_transform(data['date_info']['day_of_week'])\n",
    "data['date_info']['visit_date'] = data['date_info']['visit_date'].dt.date\n",
    "train = pd.merge(data['air_visit'], data['date_info'], how='left', on=['visit_date']) \n",
    "test = pd.merge(data['sub'], data['date_info'], how='left', on=['visit_date']) \n",
    "\n",
    "train = pd.merge(train, restaurants, how='left', on=['air_store_id','dow']) \n",
    "test = pd.merge(test, restaurants, how='left', on=['air_store_id','dow'])"
   ]
  },
  {
   "cell_type": "code",
   "execution_count": 177,
   "metadata": {},
   "outputs": [],
   "source": [
    "for df in ['air_reserve','hpg_reserve']:\n",
    "    train = pd.merge(train, data[df], how='left', on=['air_store_id','visit_date']) \n",
    "    test = pd.merge(test, data[df], how='left', on=['air_store_id','visit_date'])\n",
    "\n",
    "train['id'] = train.apply(lambda r: '_'.join([str(r['air_store_id']), str(r['visit_date'])]), axis=1)\n",
    "\n",
    "train['total_reserv_sum'] = train['rv1_x'] + train['rv1_y']\n",
    "train['total_reserv_mean'] = (train['rv2_x'] + train['rv2_y']) / 2\n",
    "train['total_reserv_dt_diff_mean'] = (train['rs2_x'] + train['rs2_y']) / 2\n",
    "\n",
    "test['total_reserv_sum'] = test['rv1_x'] + test['rv1_y']\n",
    "test['total_reserv_mean'] = (test['rv2_x'] + test['rv2_y']) / 2\n",
    "test['total_reserv_dt_diff_mean'] = (test['rs2_x'] + test['rs2_y']) / 2\n"
   ]
  },
  {
   "cell_type": "code",
   "execution_count": 178,
   "metadata": {},
   "outputs": [],
   "source": [
    "train['date_int'] = train['visit_date'].apply(lambda x: x.strftime('%Y%m%d')).astype(int)\n",
    "test['date_int'] = test['visit_date'].apply(lambda x: x.strftime('%Y%m%d')).astype(int)\n",
    "train['var_max_lat'] = train['latitude'].max() - train['latitude']\n",
    "train['var_max_long'] = train['longitude'].max() - train['longitude']\n",
    "test['var_max_lat'] = test['latitude'].max() - test['latitude']\n",
    "test['var_max_long'] = test['longitude'].max() - test['longitude']"
   ]
  },
  {
   "cell_type": "code",
   "execution_count": 179,
   "metadata": {},
   "outputs": [],
   "source": [
    "train['lon_plus_lat'] = train['longitude'] + train['latitude'] \n",
    "test['lon_plus_lat'] = test['longitude'] + test['latitude']\n",
    "\n",
    "lbl = preprocessing.LabelEncoder()\n",
    "train['air_store_id2'] = lbl.fit_transform(train['air_store_id'])\n",
    "test['air_store_id2'] = lbl.transform(test['air_store_id'])\n",
    "\n",
    "col = [c for c in train if c not in ['id', 'air_store_id', 'visit_date','visitors']]\n",
    "train = train.fillna(-1)\n",
    "test = test.fillna(-1)"
   ]
  },
  {
   "cell_type": "code",
   "execution_count": 180,
   "metadata": {},
   "outputs": [
    {
     "data": {
      "text/plain": [
       "0    0\n",
       "1    0\n",
       "2    0\n",
       "3    0\n",
       "4    0\n",
       "5    0\n",
       "6    0\n",
       "7    0\n",
       "8    0\n",
       "9    0\n",
       "Name: visitors, dtype: int64"
      ]
     },
     "execution_count": 180,
     "metadata": {},
     "output_type": "execute_result"
    }
   ],
   "source": [
    "test['visitors'].head(10)"
   ]
  },
  {
   "cell_type": "code",
   "execution_count": null,
   "metadata": {},
   "outputs": [],
   "source": []
  },
  {
   "cell_type": "code",
   "execution_count": 181,
   "metadata": {},
   "outputs": [],
   "source": [
    "def RMSLE(y, pred):\n",
    "    return metrics.mean_squared_error(y, pred)**0.5"
   ]
  },
  {
   "cell_type": "code",
   "execution_count": 182,
   "metadata": {},
   "outputs": [],
   "source": [
    "model1 = ensemble.GradientBoostingRegressor(learning_rate=0.2, random_state=3, n_estimators=200, subsample=0.8, \n",
    "                      max_depth =10)\n"
   ]
  },
  {
   "cell_type": "code",
   "execution_count": 183,
   "metadata": {},
   "outputs": [
    {
     "data": {
      "text/plain": [
       "GradientBoostingRegressor(alpha=0.9, criterion='friedman_mse', init=None,\n",
       "             learning_rate=0.2, loss='ls', max_depth=10, max_features=None,\n",
       "             max_leaf_nodes=None, min_impurity_decrease=0.0,\n",
       "             min_impurity_split=None, min_samples_leaf=1,\n",
       "             min_samples_split=2, min_weight_fraction_leaf=0.0,\n",
       "             n_estimators=200, presort='auto', random_state=3,\n",
       "             subsample=0.8, verbose=0, warm_start=False)"
      ]
     },
     "execution_count": 183,
     "metadata": {},
     "output_type": "execute_result"
    }
   ],
   "source": [
    "model1.fit(train[col], np.log1p(train['visitors'].values))\n",
    "\n"
   ]
  },
  {
   "cell_type": "code",
   "execution_count": 184,
   "metadata": {},
   "outputs": [],
   "source": [
    "preds1 = model1.predict(train[col])"
   ]
  },
  {
   "cell_type": "code",
   "execution_count": 185,
   "metadata": {},
   "outputs": [
    {
     "name": "stdout",
     "output_type": "stream",
     "text": [
      "RMSE GradientBoostingRegressor:  0.34793105169484123\n"
     ]
    }
   ],
   "source": [
    "print('RMSE GradientBoostingRegressor: ', RMSLE(np.log1p(train['visitors'].values), preds1))\n",
    "\n",
    "preds1 = model1.predict(test[col])\n",
    "\n"
   ]
  },
  {
   "cell_type": "code",
   "execution_count": null,
   "metadata": {},
   "outputs": [],
   "source": []
  },
  {
   "cell_type": "code",
   "execution_count": 186,
   "metadata": {},
   "outputs": [
    {
     "name": "stdout",
     "output_type": "stream",
     "text": [
      "RMSE GradientBoostingRegressor:  2.752881287981128\n"
     ]
    }
   ],
   "source": [
    "print('RMSE GradientBoostingRegressor: ', RMSLE(np.log1p(test['visitors'].values), preds1))"
   ]
  },
  {
   "cell_type": "code",
   "execution_count": null,
   "metadata": {},
   "outputs": [],
   "source": []
  },
  {
   "cell_type": "code",
   "execution_count": 187,
   "metadata": {},
   "outputs": [],
   "source": [
    "model2 = neighbors.KNeighborsRegressor(n_jobs=-1, n_neighbors=4)"
   ]
  },
  {
   "cell_type": "code",
   "execution_count": 188,
   "metadata": {},
   "outputs": [
    {
     "data": {
      "text/plain": [
       "KNeighborsRegressor(algorithm='auto', leaf_size=30, metric='minkowski',\n",
       "          metric_params=None, n_jobs=-1, n_neighbors=4, p=2,\n",
       "          weights='uniform')"
      ]
     },
     "execution_count": 188,
     "metadata": {},
     "output_type": "execute_result"
    }
   ],
   "source": [
    "model2.fit(train[col], np.log1p(train['visitors'].values))"
   ]
  },
  {
   "cell_type": "code",
   "execution_count": 189,
   "metadata": {},
   "outputs": [],
   "source": [
    "preds2 = model2.predict(train[col])"
   ]
  },
  {
   "cell_type": "code",
   "execution_count": 190,
   "metadata": {},
   "outputs": [
    {
     "name": "stdout",
     "output_type": "stream",
     "text": [
      "RMSE KNeighborsRegressor:  0.41945171611410526\n"
     ]
    }
   ],
   "source": [
    "print('RMSE KNeighborsRegressor: ', RMSLE(np.log1p(train['visitors'].values), preds2))"
   ]
  },
  {
   "cell_type": "code",
   "execution_count": 191,
   "metadata": {},
   "outputs": [],
   "source": [
    "from sklearn.feature_selection import RFE"
   ]
  },
  {
   "cell_type": "code",
   "execution_count": null,
   "metadata": {},
   "outputs": [],
   "source": []
  },
  {
   "cell_type": "code",
   "execution_count": 192,
   "metadata": {},
   "outputs": [],
   "source": [
    "preds2 = model2.predict(test[col])"
   ]
  },
  {
   "cell_type": "code",
   "execution_count": 193,
   "metadata": {},
   "outputs": [
    {
     "name": "stdout",
     "output_type": "stream",
     "text": [
      "[1.53389122 3.31345315 3.50675062 ... 1.39960549 1.39960549 1.39960549]\n"
     ]
    }
   ],
   "source": [
    "print(preds2)"
   ]
  },
  {
   "cell_type": "code",
   "execution_count": 194,
   "metadata": {},
   "outputs": [],
   "source": [
    "model3 = XGBRegressor(learning_rate=0.2, random_state=3, n_estimators=280, subsample=0.8, \n",
    "                      colsample_bytree=0.8, max_depth =12)"
   ]
  },
  {
   "cell_type": "code",
   "execution_count": 195,
   "metadata": {},
   "outputs": [
    {
     "data": {
      "text/plain": [
       "XGBRegressor(base_score=0.5, booster='gbtree', colsample_bylevel=1,\n",
       "       colsample_bytree=0.8, gamma=0, importance_type='gain',\n",
       "       learning_rate=0.2, max_delta_step=0, max_depth=12,\n",
       "       min_child_weight=1, missing=None, n_estimators=280, n_jobs=1,\n",
       "       nthread=None, objective='reg:linear', random_state=3, reg_alpha=0,\n",
       "       reg_lambda=1, scale_pos_weight=1, seed=None, silent=True,\n",
       "       subsample=0.8)"
      ]
     },
     "execution_count": 195,
     "metadata": {},
     "output_type": "execute_result"
    }
   ],
   "source": [
    "model3.fit(train[col], np.log1p(train['visitors'].values))"
   ]
  },
  {
   "cell_type": "code",
   "execution_count": null,
   "metadata": {},
   "outputs": [],
   "source": []
  },
  {
   "cell_type": "code",
   "execution_count": 196,
   "metadata": {},
   "outputs": [],
   "source": [
    "preds3 = model3.predict(train[col])"
   ]
  },
  {
   "cell_type": "code",
   "execution_count": 197,
   "metadata": {},
   "outputs": [
    {
     "name": "stdout",
     "output_type": "stream",
     "text": [
      "RMSE XGBRegressor:  0.40288770597836376\n"
     ]
    }
   ],
   "source": [
    "print('RMSE XGBRegressor: ', RMSLE(np.log1p(train['visitors'].values), preds3))"
   ]
  },
  {
   "cell_type": "code",
   "execution_count": null,
   "metadata": {},
   "outputs": [],
   "source": []
  },
  {
   "cell_type": "code",
   "execution_count": null,
   "metadata": {},
   "outputs": [],
   "source": []
  },
  {
   "cell_type": "code",
   "execution_count": 198,
   "metadata": {},
   "outputs": [],
   "source": [
    "preds3 = model3.predict(test[col])"
   ]
  },
  {
   "cell_type": "code",
   "execution_count": 199,
   "metadata": {},
   "outputs": [],
   "source": [
    "test['visitors'] = 0.3*preds1+0.3*preds2+0.4*preds3\n",
    "test['visitors'] = np.expm1(test['visitors']).clip(lower=0.)\n"
   ]
  },
  {
   "cell_type": "code",
   "execution_count": 200,
   "metadata": {},
   "outputs": [
    {
     "data": {
      "text/plain": [
       "0     3.104401\n",
       "1    22.520606\n",
       "2    29.967686\n",
       "3    26.371493\n",
       "4    29.381655\n",
       "5    38.060180\n",
       "6    11.420190\n",
       "7     3.104401\n",
       "8    21.447386\n",
       "9    30.054161\n",
       "Name: visitors, dtype: float64"
      ]
     },
     "execution_count": 200,
     "metadata": {},
     "output_type": "execute_result"
    }
   ],
   "source": [
    "test['visitors'].head(10)"
   ]
  },
  {
   "cell_type": "code",
   "execution_count": 201,
   "metadata": {},
   "outputs": [],
   "source": [
    "sub1 = test[['id','visitors']].copy()"
   ]
  },
  {
   "cell_type": "code",
   "execution_count": 202,
   "metadata": {},
   "outputs": [
    {
     "name": "stdout",
     "output_type": "stream",
     "text": [
      "                                    id   visitors\n",
      "0      air_00a91d42b08b08d9_2017-04-23   3.104401\n",
      "1      air_00a91d42b08b08d9_2017-04-24  22.520606\n",
      "2      air_00a91d42b08b08d9_2017-04-25  29.967686\n",
      "3      air_00a91d42b08b08d9_2017-04-26  26.371493\n",
      "4      air_00a91d42b08b08d9_2017-04-27  29.381655\n",
      "5      air_00a91d42b08b08d9_2017-04-28  38.060180\n",
      "6      air_00a91d42b08b08d9_2017-04-29  11.420190\n",
      "7      air_00a91d42b08b08d9_2017-04-30   3.104401\n",
      "8      air_00a91d42b08b08d9_2017-05-01  21.447386\n",
      "9      air_00a91d42b08b08d9_2017-05-02  30.054161\n",
      "10     air_00a91d42b08b08d9_2017-05-03  28.455899\n",
      "11     air_00a91d42b08b08d9_2017-05-04  25.562437\n",
      "12     air_00a91d42b08b08d9_2017-05-05  37.459890\n",
      "13     air_00a91d42b08b08d9_2017-05-06  13.103645\n",
      "14     air_00a91d42b08b08d9_2017-05-07   2.579532\n",
      "15     air_00a91d42b08b08d9_2017-05-08  21.447386\n",
      "16     air_00a91d42b08b08d9_2017-05-09  30.054161\n",
      "17     air_00a91d42b08b08d9_2017-05-10  27.550144\n",
      "18     air_00a91d42b08b08d9_2017-05-11  29.112681\n",
      "19     air_00a91d42b08b08d9_2017-05-12  37.420430\n",
      "20     air_00a91d42b08b08d9_2017-05-13  13.103645\n",
      "21     air_00a91d42b08b08d9_2017-05-14   2.579532\n",
      "22     air_00a91d42b08b08d9_2017-05-15  21.447386\n",
      "23     air_00a91d42b08b08d9_2017-05-16  30.054161\n",
      "24     air_00a91d42b08b08d9_2017-05-17  27.550144\n",
      "25     air_00a91d42b08b08d9_2017-05-18  29.112681\n",
      "26     air_00a91d42b08b08d9_2017-05-19  37.420430\n",
      "27     air_00a91d42b08b08d9_2017-05-20  13.103645\n",
      "28     air_00a91d42b08b08d9_2017-05-21   2.579532\n",
      "29     air_00a91d42b08b08d9_2017-05-22  21.447386\n",
      "...                                ...        ...\n",
      "31989  air_fff68b929994bfbd_2017-05-02   3.114570\n",
      "31990  air_fff68b929994bfbd_2017-05-03   2.629052\n",
      "31991  air_fff68b929994bfbd_2017-05-04   3.756827\n",
      "31992  air_fff68b929994bfbd_2017-05-05   3.359209\n",
      "31993  air_fff68b929994bfbd_2017-05-06   4.655921\n",
      "31994  air_fff68b929994bfbd_2017-05-07   2.836382\n",
      "31995  air_fff68b929994bfbd_2017-05-08   2.532760\n",
      "31996  air_fff68b929994bfbd_2017-05-09   3.114570\n",
      "31997  air_fff68b929994bfbd_2017-05-10   2.757084\n",
      "31998  air_fff68b929994bfbd_2017-05-11   2.583397\n",
      "31999  air_fff68b929994bfbd_2017-05-12   3.293879\n",
      "32000  air_fff68b929994bfbd_2017-05-13   4.655921\n",
      "32001  air_fff68b929994bfbd_2017-05-14   2.836382\n",
      "32002  air_fff68b929994bfbd_2017-05-15   2.532760\n",
      "32003  air_fff68b929994bfbd_2017-05-16   3.114570\n",
      "32004  air_fff68b929994bfbd_2017-05-17   2.757084\n",
      "32005  air_fff68b929994bfbd_2017-05-18   2.583397\n",
      "32006  air_fff68b929994bfbd_2017-05-19   3.293879\n",
      "32007  air_fff68b929994bfbd_2017-05-20   4.486514\n",
      "32008  air_fff68b929994bfbd_2017-05-21   2.836382\n",
      "32009  air_fff68b929994bfbd_2017-05-22   2.532760\n",
      "32010  air_fff68b929994bfbd_2017-05-23   3.114570\n",
      "32011  air_fff68b929994bfbd_2017-05-24   2.757084\n",
      "32012  air_fff68b929994bfbd_2017-05-25   2.583397\n",
      "32013  air_fff68b929994bfbd_2017-05-26   3.293879\n",
      "32014  air_fff68b929994bfbd_2017-05-27   4.486514\n",
      "32015  air_fff68b929994bfbd_2017-05-28   2.836382\n",
      "32016  air_fff68b929994bfbd_2017-05-29   2.532760\n",
      "32017  air_fff68b929994bfbd_2017-05-30   3.114570\n",
      "32018  air_fff68b929994bfbd_2017-05-31   2.757084\n",
      "\n",
      "[32019 rows x 2 columns]\n"
     ]
    }
   ],
   "source": [
    "print(sub1)"
   ]
  },
  {
   "cell_type": "code",
   "execution_count": null,
   "metadata": {},
   "outputs": [],
   "source": []
  }
 ],
 "metadata": {
  "kernelspec": {
   "display_name": "Python 3",
   "language": "python",
   "name": "python3"
  },
  "language_info": {
   "codemirror_mode": {
    "name": "ipython",
    "version": 3
   },
   "file_extension": ".py",
   "mimetype": "text/x-python",
   "name": "python",
   "nbconvert_exporter": "python",
   "pygments_lexer": "ipython3",
   "version": "3.6.5"
  }
 },
 "nbformat": 4,
 "nbformat_minor": 2
}
